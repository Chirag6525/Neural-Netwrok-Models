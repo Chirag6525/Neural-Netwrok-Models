{
 "cells": [
  {
   "cell_type": "code",
   "execution_count": null,
   "id": "6a7a9df2-d274-4db4-80f7-da5766c34205",
   "metadata": {},
   "outputs": [],
   "source": [
    "import numpy as np\n",
    "import tensorflow as tf\n",
    "import tensorflow.keras.models import Sequential\n",
    "import tensorflow.keras.layers import Dense, Conv2D, maxPooling2D, Flatten, LSTM, SimpleRNN"
   ]
  }
 ],
 "metadata": {
  "kernelspec": {
   "display_name": "Python 3 (ipykernel)",
   "language": "python",
   "name": "python3"
  },
  "language_info": {
   "codemirror_mode": {
    "name": "ipython",
    "version": 3
   },
   "file_extension": ".py",
   "mimetype": "text/x-python",
   "name": "python",
   "nbconvert_exporter": "python",
   "pygments_lexer": "ipython3",
   "version": "3.12.4"
  }
 },
 "nbformat": 4,
 "nbformat_minor": 5
}
