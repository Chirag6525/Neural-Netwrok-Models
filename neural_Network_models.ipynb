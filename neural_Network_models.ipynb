{
 "cells": [
  {
   "cell_type": "code",
   "execution_count": 4,
   "id": "6a7a9df2-d274-4db4-80f7-da5766c34205",
   "metadata": {},
   "outputs": [],
   "source": [
    "import numpy as np\n",
    "import tensorflow as tf\n",
    "from tensorflow.keras.models import Sequential\n",
    "from tensorflow.keras.layers import Dense, Conv2D, MaxPooling2D, Flatten, LSTM, SimpleRNN, Embedding"
   ]
  },
  {
   "cell_type": "code",
   "execution_count": 5,
   "id": "656f5dd7-e1f3-4f03-aabf-6694bd3f716d",
   "metadata": {},
   "outputs": [],
   "source": [
    "## Sample Datasets\n",
    "## MLP\n",
    "X_mlp = np.random.rand(1000,10) ##  1000 Samples and 10 features\n",
    "Y_mlp = np.random.randint(2,size=(1000,)) ## binary classification labels\n",
    "\n",
    "## CNN\n",
    "X_cnn = np.random.rand(1000,28,28,3) ## 1000 RGB image of size 28 x 28 \n",
    "Y_cnn = np.random.randint(10,size=(1000,))## 10 classes for image classification\n",
    "\n",
    "## LSTM\n",
    "X_lstm = np.random.randint(1000 ,size=(1000,10,1)) # 1000 sequence of length 10\n",
    "Y_lstm = np.random.randint(2, size = (1000,)) # binary classification labels"
   ]
  },
  {
   "cell_type": "markdown",
   "id": "5063ef3f-6ad3-490d-9ce2-5dd595cbe673",
   "metadata": {},
   "source": [
    "## MLPs"
   ]
  },
  {
   "cell_type": "code",
   "execution_count": null,
   "id": "c1c42818-7b74-49de-9c30-201b61d78162",
   "metadata": {},
   "outputs": [],
   "source": [
    "model_mlp = Sequential([\n",
    "    Dense(64,activation = 'relu',input_shape = (10,)),\n",
    "    Dense(32,activation = 'relu'),\n",
    "    Dense(1,activation = 'sigmoid')\n",
    "])\n",
    "model_mlp.compile(optimizer = 'adam',\n",
    "                 loss = 'binary_crossentropy',\n",
    "                 metrics = ['acc'])"
   ]
  }
 ],
 "metadata": {
  "kernelspec": {
   "display_name": "Python 3 (ipykernel)",
   "language": "python",
   "name": "python3"
  },
  "language_info": {
   "codemirror_mode": {
    "name": "ipython",
    "version": 3
   },
   "file_extension": ".py",
   "mimetype": "text/x-python",
   "name": "python",
   "nbconvert_exporter": "python",
   "pygments_lexer": "ipython3",
   "version": "3.12.4"
  }
 },
 "nbformat": 4,
 "nbformat_minor": 5
}
